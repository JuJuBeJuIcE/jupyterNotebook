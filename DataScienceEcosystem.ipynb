{
 "cells": [
  {
   "cell_type": "markdown",
   "id": "507ab581-cece-4374-a763-784dcfd034ca",
   "metadata": {},
   "source": [
    "# Data Science And Tools"
   ]
  },
  {
   "cell_type": "markdown",
   "id": "e8950e90-2bfa-4ca0-b8e2-1a9e92355dbb",
   "metadata": {},
   "source": [
    "## *In this notebook, Data Science Tools and Ecosystem are summarised by Kevin Jacob.*"
   ]
  },
  {
   "cell_type": "markdown",
   "id": "8930e369-0171-43e3-a188-8d48976278e7",
   "metadata": {},
   "source": [
    "***Some of the popular languages of Data Science are:***\n",
    "1. Python\n",
    "2. R\n",
    "3. SQL\n",
    "4. Julia\n",
    "5. Scala"
   ]
  },
  {
   "cell_type": "markdown",
   "id": "367ee326-a82b-430f-ac89-4fccbfa425ef",
   "metadata": {},
   "source": [
    "***Some of the commonly used libraries used by Data Scientists include:***\n",
    "1. Matplotlib\n",
    "2. Pandas\n",
    "3. Seaborn\n",
    "4. Numpy\n",
    "5. Scikit-learn"
   ]
  },
  {
   "cell_type": "markdown",
   "id": "9ad59af0-1cb8-4e5f-a49b-d336e49dc4ee",
   "metadata": {},
   "source": [
    "|Data Science Tools|\n",
    "|------------------|\n",
    "|Apache Hadoop|\n",
    "|Apache Spark|\n",
    "|Tableau|\n"
   ]
  },
  {
   "cell_type": "markdown",
   "id": "f9a6a620-4d85-4c1f-aedd-728588bae803",
   "metadata": {},
   "source": [
    "### Below are a few examples of evaluating arithmetic expressions in Python."
   ]
  },
  {
   "cell_type": "code",
   "execution_count": 1,
   "id": "dc1f28d0-811e-48bf-a4d0-0f2e3f14c463",
   "metadata": {},
   "outputs": [
    {
     "data": {
      "text/plain": [
       "17"
      ]
     },
     "execution_count": 1,
     "metadata": {},
     "output_type": "execute_result"
    }
   ],
   "source": [
    "#This a simple arithmetic expression to mutiply then add integers.\n",
    "(3*4)+5"
   ]
  },
  {
   "cell_type": "code",
   "execution_count": 2,
   "id": "28048a06-3097-4cb2-969c-ce56c428d00b",
   "metadata": {},
   "outputs": [
    {
     "data": {
      "text/plain": [
       "3.3333333333333335"
      ]
     },
     "execution_count": 2,
     "metadata": {},
     "output_type": "execute_result"
    }
   ],
   "source": [
    "# This will convert 200 minutes to hours by diving by 60.\n",
    "200/60"
   ]
  },
  {
   "cell_type": "markdown",
   "id": "f597da8b-0f6f-440b-a63c-1773d1ddc6b5",
   "metadata": {},
   "source": [
    "**Objectives:**\n",
    "\n",
    "*Popular languages used in Data Science*\n",
    " - Python\n",
    " - R\n",
    " - SQL\n",
    "\n",
    "   \n",
    "*Popular libraries used in Data Science*\n",
    " - Pandas\n",
    " - Numpy\n",
    " - Matplotlib\n",
    "\n",
    "   \n",
    " *Popular tools used in Data Science*\n",
    " - Apache Hadoop\n"
   ]
  },
  {
   "cell_type": "markdown",
   "id": "0ef6b9cb-5551-4705-8ea6-4790cab3727e",
   "metadata": {},
   "source": [
    "## Author:\n",
    "*Kevin Jacob*\n",
    "\n",
    "  Author\n",
    "\n"
   ]
  },
  {
   "cell_type": "code",
   "execution_count": null,
   "id": "10ea2ff1-d10c-4ce0-9da6-876275f196f9",
   "metadata": {},
   "outputs": [],
   "source": []
  }
 ],
 "metadata": {
  "kernelspec": {
   "display_name": "Python 3 (ipykernel)",
   "language": "python",
   "name": "python3"
  },
  "language_info": {
   "codemirror_mode": {
    "name": "ipython",
    "version": 3
   },
   "file_extension": ".py",
   "mimetype": "text/x-python",
   "name": "python",
   "nbconvert_exporter": "python",
   "pygments_lexer": "ipython3",
   "version": "3.12.4"
  }
 },
 "nbformat": 4,
 "nbformat_minor": 5
}
